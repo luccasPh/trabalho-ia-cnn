{
 "cells": [
  {
   "cell_type": "markdown",
   "metadata": {},
   "source": [
    "# Trabalho prático: Implementação de uma Rede Neural Convolucional\n",
    "## Objetivo:\n",
    "Implementar e treinar um modelo de Rede Neural Convolucional para classificação de imagens de cães e de gatos e\n",
    "entregar um relatório técnico, desenvolvido por meio da plataforma Jupyter Notebook."
   ]
  },
  {
   "cell_type": "markdown",
   "metadata": {},
   "source": [
    "## Fundamentação téorica:\n",
    "Uma Rede Neural Convolucional (ou Convolutional Neural Network - CNN) e uma variacão das redes de Perceptrons de Multiplas Camadas, tendo sido inspirada no processo biologico de processamentos de dados visuais. De maneira semelhante aos processos tradicionais de visao computacional, uma CNN e capaz de aplicar filtros em dados visuais, mantendo a relação de vizinhançã entre os pixels da imagem ao longo do processamento da rede. Uma rede neural convolucional consiste em multiplas partes com funções diferentes. Inicialmente é comum aplicar sobre o dado de entrada camadas ditas de convolução. Uma camada de convoluao é composta por diversos neuronios, cada um responsavel por aplicar um filtro em um pedação específico da imagem. Podemos imaginar cada neuronio sendo  onectado a um conjunto de pixels da camada anterior e que a cada uma dessa conexoes se atribui um peso. A combinação das entradas de um neuronio, utilizando os pesos respectivos de cada uma de suas conexoes, produz uma saıda passada para a camada seguinte. Os pesos atribuıdos as conexões de um neuronio podem ser interpretados como uma matriz que representa o filtro de uma convolução de imagens no domınio espacial."
   ]
  },
  {
   "cell_type": "markdown",
   "metadata": {},
   "source": [
    "## Metodologia\n",
    "Para implementação da rede neural foi utilizado o Keras que é uma biblioteca de rede neural de código aberto escrita em Python. Ele é capaz de rodar em cima de TensorFlow, Microsoft Cognitive Toolkit, Theano, ou PlaidML.\n",
    "Projetado para permitir a rápida experimentação de redes neurais profundas, ele se concentra em ser fácil de usar, modular e extensível.\n",
    "\n",
    "### 1. Importar o Keras e todas as bibliotecas necessarias\n"
   ]
  },
  {
   "cell_type": "code",
   "execution_count": 1,
   "metadata": {},
   "outputs": [
    {
     "name": "stderr",
     "output_type": "stream",
     "text": [
      "Using TensorFlow backend.\n"
     ]
    }
   ],
   "source": [
    "from keras.models import Sequential\n",
    "from keras.layers import Conv2D\n",
    "from keras.layers import MaxPooling2D\n",
    "from keras.layers import Flatten\n",
    "from keras.layers import Dense\n",
    "from keras.preprocessing.image import ImageDataGenerator\n",
    "from keras.preprocessing import image\n",
    "from keras.models import model_from_json"
   ]
  },
  {
   "cell_type": "markdown",
   "metadata": {},
   "source": [
    "### 2. Definir a arquitetura da CNN"
   ]
  },
  {
   "cell_type": "code",
   "execution_count": 2,
   "metadata": {},
   "outputs": [],
   "source": [
    "def build():\n",
    "    cnn = Sequential()\n",
    "    cnn.add(Conv2D(64, kernel_size=3, input_shape = (64, 64, 3), activation = 'relu'))\n",
    "    cnn.add(MaxPooling2D(pool_size=(2,2)))\n",
    "    \n",
    "    cnn.add(Conv2D(32, kernel_size=3, activation='relu'))\n",
    "    cnn.add(MaxPooling2D(pool_size=(2,2)))\n",
    "    \n",
    "    cnn.add(Flatten())\n",
    "    \n",
    "    cnn.add(Dense(units=128, activation='relu'))\n",
    "    cnn.add(Dense(units=1, activation='sigmoid'))\n",
    "    \n",
    "    cnn.compile(optimizer='adam', loss='binary_crossentropy', metrics=['accuracy'])\n",
    "    \n",
    "    return cnn"
   ]
  },
  {
   "cell_type": "markdown",
   "metadata": {},
   "source": [
    " Esta CNN é baseada na arquitetura LeNet-5 \n",
    " <img src=\"dataset/lenet5.png\" width=\"77%\" title=\"MCP Neuron\">\n",
    "Resumidamente, a arquitetura da LeNet-5 é composta por uma sequência com as seguintes camadas:\n",
    "- CNN é composta por um conjunto de 6 filtros (5×5), stride=1.\n",
    "- POOL (2×2), stride=2, para reduzir o tamanho espacial das matrizes resultantes.\n",
    "- CNN (5×5) com 16 filtros e stride=1.\n",
    "- POOL (2×2), stride=2.\n",
    "- Os mapas de características são achatados (flatten), formando 400 nós (5x5x16) para a próxima camanda FC.\n",
    "- FC com 120 nós.\n",
    "- FC com 84 nós.\n",
    "\n",
    "A CNN é instanciada pela classe Sequential, e cada layer é adicionado na sequência do outro, seguindo a arquitetura já detalhada acima."
   ]
  },
  {
   "cell_type": "markdown",
   "metadata": {},
   "source": [
    "### 3. Carregar os dados para treinar e testar\n",
    "Para treinar e testar a CNN foram utilizados 8000 fotos para treino e 2000 para teste de caes e gatos"
   ]
  },
  {
   "cell_type": "code",
   "execution_count": 3,
   "metadata": {},
   "outputs": [],
   "source": [
    "def dataset():\n",
    "    trainer_data = ImageDataGenerator(rescale=1./255,\n",
    "                                      shear_range=0.2,\n",
    "                                      zoom_range=0.2,\n",
    "                                      horizontal_flip=True)\n",
    "    \n",
    "    test_data = ImageDataGenerator(rescale=1./255)\n",
    "    \n",
    "    trainer_set = trainer_data.flow_from_directory('dataset/training_set',\n",
    "                                                 target_size = (64, 64),\n",
    "                                                 batch_size = 32,\n",
    "                                                 class_mode = 'binary')\n",
    "\n",
    "    test_set = test_data.flow_from_directory('dataset/test_set',\n",
    "                                            target_size = (64, 64),\n",
    "                                            batch_size = 32,\n",
    "                                            class_mode = 'binary')\n",
    "    \n",
    "    return trainer_set, test_set"
   ]
  },
  {
   "cell_type": "markdown",
   "metadata": {},
   "source": [
    "### 4. Treinado a CNN\n",
    "Classe LeNet5 implementada, dados de entrada tratados corretamente, e agora é hora de compilar a CNN e treiná-la "
   ]
  },
  {
   "cell_type": "code",
   "execution_count": 5,
   "metadata": {},
   "outputs": [
    {
     "name": "stdout",
     "output_type": "stream",
     "text": [
      "Found 8000 images belonging to 2 classes.\n",
      "Found 2000 images belonging to 2 classes.\n",
      "Epoch 1/3\n",
      "8000/8000 [==============================] - 1663s 208ms/step - loss: 0.3609 - acc: 0.8306 - val_loss: 0.5949 - val_acc: 0.8103\n",
      "Epoch 2/3\n",
      "8000/8000 [==============================] - 1826s 228ms/step - loss: 0.1104 - acc: 0.9578 - val_loss: 0.9716 - val_acc: 0.7813\n",
      "Epoch 3/3\n",
      "8000/8000 [==============================] - 1680s 210ms/step - loss: 0.0591 - acc: 0.9788 - val_loss: 1.0464 - val_acc: 0.8049\n"
     ]
    },
    {
     "data": {
      "text/plain": [
       "<keras.callbacks.History at 0x7fc1025fbd68>"
      ]
     },
     "execution_count": 5,
     "metadata": {},
     "output_type": "execute_result"
    }
   ],
   "source": [
    "classifier = build()\n",
    "    \n",
    "trainer, test = dataset()\n",
    "    \n",
    "classifier.fit_generator(trainer,\n",
    "                        steps_per_epoch=8000,\n",
    "                        epochs=3,\n",
    "                        validation_data=test,\n",
    "                        validation_steps=2000)"
   ]
  },
  {
   "cell_type": "markdown",
   "metadata": {},
   "source": [
    "### 5. Avaliando a CNN\n",
    "Para avaliar o desempenho da nossa CNN,  chamamos o método model.predict para gerar previsões em cima do dataset de teste."
   ]
  },
  {
   "cell_type": "code",
   "execution_count": 14,
   "metadata": {},
   "outputs": [
    {
     "name": "stdout",
     "output_type": "stream",
     "text": [
      "dog\n"
     ]
    }
   ],
   "source": [
    "import numpy as np\n",
    "\n",
    "test = image.load_img('dataset/cat_or_dog.jpg', target_size = (64,64))\n",
    "test = image.img_to_array(test)\n",
    "test = np.expand_dims(test, axis=0)\n",
    "\n",
    "res = classifier.predict(test)\n",
    "\n",
    "print(\"dog\") if res[0][0] == 1 else print(\"cat\")"
   ]
  },
  {
   "cell_type": "markdown",
   "metadata": {},
   "source": [
    "<img src=\"dataset/cat_or_dog.jpg\" width=\"22%\" title=\"???\" align=\"left\">"
   ]
  },
  {
   "cell_type": "markdown",
   "metadata": {},
   "source": [
    "## Análise dos Resultados\n",
    "Conseguimos uma precisão de 97% nas previsões em 3 epocas feitas com a LeNet-5 treinada como o treinamento foi feito em um notebook com placa de video fraca o treinamento levo 1 hora 43 minutos para concluir  "
   ]
  },
  {
   "cell_type": "markdown",
   "metadata": {},
   "source": [
    "## Conclusão\n",
    "Atualmente inumeras abordagens utilizando Redes Neurais com aprendizado profundo estao alcançando os melhores resultados em diversos problemas de Visao Computacional. Por isso e importante entender como elas funcionam, \n",
    "para assim projetar melhores arquiteturas e obter melhores resultados."
   ]
  },
  {
   "cell_type": "code",
   "execution_count": null,
   "metadata": {},
   "outputs": [],
   "source": []
  }
 ],
 "metadata": {
  "kernelspec": {
   "display_name": "Python 3",
   "language": "python",
   "name": "python3"
  },
  "language_info": {
   "codemirror_mode": {
    "name": "ipython",
    "version": 3
   },
   "file_extension": ".py",
   "mimetype": "text/x-python",
   "name": "python",
   "nbconvert_exporter": "python",
   "pygments_lexer": "ipython3",
   "version": "3.7.3"
  }
 },
 "nbformat": 4,
 "nbformat_minor": 2
}
